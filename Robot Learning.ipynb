{
 "cells": [
  {
   "cell_type": "code",
   "execution_count": 7,
   "metadata": {},
   "outputs": [],
   "source": [
    "import numpy as np\n",
    "import matplotlib.pyplot as plt"
   ]
  },
  {
   "cell_type": "code",
   "execution_count": 48,
   "metadata": {},
   "outputs": [
    {
     "name": "stderr",
     "output_type": "stream",
     "text": [
      "Using TensorFlow backend.\n"
     ]
    }
   ],
   "source": [
    "from keras.models import Sequential\n",
    "from keras.layers import Cropping2D, Lambda, Dropout, ELU\n",
    "from keras.layers import Conv2D, MaxPooling2D, Flatten, Dense\n",
    "\n",
    "\n",
    "def build_model(og_img_shape):\n",
    "\n",
    "    model = Sequential()\n",
    "\n",
    "    model.add(Lambda(lambda x: x / 127.5 - 1.0, input_shape = og_img_shape))\n",
    "\n",
    "    model.add(Conv2D(24, (5,5), strides=(2, 2), padding='same', activation='elu'))\n",
    "    model.add(MaxPooling2D(pool_size=(2, 2), padding='valid'))\n",
    "\n",
    "    model.add(Conv2D(36, (5,5), strides=(2, 2), padding='same', activation='elu'))\n",
    "    model.add(MaxPooling2D(pool_size=(2, 2), padding='valid'))\n",
    "\n",
    "    model.add(Conv2D(48, (5,5), strides=(2, 2), padding='same', activation='elu'))\n",
    "    model.add(MaxPooling2D(pool_size=(2, 2), padding='valid'))\n",
    "\n",
    "    model.add(Conv2D(64, (3,3), strides=(1, 1), padding='valid', activation='elu'))\n",
    "\n",
    "    model.add(Conv2D(64, (3,3), strides=(1, 1), padding='valid', activation='elu'))\n",
    "    model.add(Dropout(0.5))\n",
    "\n",
    "    model.add(Flatten())\n",
    "    model.add(Dense(100, activation = 'elu'))\n",
    "    model.add(Dense(50, activation = 'elu'))\n",
    "    model.add(Dense(10, activation = 'elu'))\n",
    "    model.add(Dense(1))\n",
    "\n",
    "    model.summary()\n",
    "\n",
    "    return model"
   ]
  },
  {
   "cell_type": "code",
   "execution_count": 60,
   "metadata": {},
   "outputs": [],
   "source": [
    "model.save_weights('deepracer_weights.h5')"
   ]
  },
  {
   "cell_type": "code",
   "execution_count": 26,
   "metadata": {},
   "outputs": [],
   "source": [
    "a = np.load('/Users/saurabh7/Downloads/123.npz')"
   ]
  },
  {
   "cell_type": "code",
   "execution_count": 27,
   "metadata": {},
   "outputs": [],
   "source": [
    "train = a['a']"
   ]
  },
  {
   "cell_type": "code",
   "execution_count": 28,
   "metadata": {},
   "outputs": [],
   "source": [
    "labels = a['b']"
   ]
  },
  {
   "cell_type": "code",
   "execution_count": 29,
   "metadata": {},
   "outputs": [
    {
     "data": {
      "text/plain": [
       "array([[[[179, 179, 179],\n",
       "         [179, 179, 179],\n",
       "         [179, 179, 179],\n",
       "         ...,\n",
       "         [179, 179, 179],\n",
       "         [179, 179, 179],\n",
       "         [179, 179, 179]],\n",
       "\n",
       "        [[179, 179, 179],\n",
       "         [179, 179, 179],\n",
       "         [179, 179, 179],\n",
       "         ...,\n",
       "         [179, 179, 179],\n",
       "         [179, 179, 179],\n",
       "         [179, 179, 179]],\n",
       "\n",
       "        [[179, 179, 179],\n",
       "         [179, 179, 179],\n",
       "         [179, 179, 179],\n",
       "         ...,\n",
       "         [179, 179, 179],\n",
       "         [179, 179, 179],\n",
       "         [179, 179, 179]],\n",
       "\n",
       "        ...,\n",
       "\n",
       "        [[122, 126, 139],\n",
       "         [122, 126, 139],\n",
       "         [121, 126, 138],\n",
       "         ...,\n",
       "         [115, 119, 132],\n",
       "         [115, 119, 132],\n",
       "         [115, 119, 132]],\n",
       "\n",
       "        [[121, 126, 138],\n",
       "         [121, 126, 138],\n",
       "         [121, 126, 138],\n",
       "         ...,\n",
       "         [115, 119, 132],\n",
       "         [115, 119, 132],\n",
       "         [115, 119, 132]],\n",
       "\n",
       "        [[121, 126, 138],\n",
       "         [121, 126, 138],\n",
       "         [121, 125, 138],\n",
       "         ...,\n",
       "         [115, 119, 132],\n",
       "         [115, 119, 132],\n",
       "         [115, 119, 132]]],\n",
       "\n",
       "\n",
       "       [[[179, 179, 179],\n",
       "         [179, 179, 179],\n",
       "         [179, 179, 179],\n",
       "         ...,\n",
       "         [179, 179, 179],\n",
       "         [179, 179, 179],\n",
       "         [179, 179, 179]],\n",
       "\n",
       "        [[179, 179, 179],\n",
       "         [179, 179, 179],\n",
       "         [179, 179, 179],\n",
       "         ...,\n",
       "         [179, 179, 179],\n",
       "         [179, 179, 179],\n",
       "         [179, 179, 179]],\n",
       "\n",
       "        [[179, 179, 179],\n",
       "         [179, 179, 179],\n",
       "         [179, 179, 179],\n",
       "         ...,\n",
       "         [179, 179, 179],\n",
       "         [179, 179, 179],\n",
       "         [179, 179, 179]],\n",
       "\n",
       "        ...,\n",
       "\n",
       "        [[120, 125, 137],\n",
       "         [120, 124, 137],\n",
       "         [120, 124, 137],\n",
       "         ...,\n",
       "         [115, 120, 132],\n",
       "         [115, 120, 132],\n",
       "         [115, 120, 132]],\n",
       "\n",
       "        [[120, 124, 137],\n",
       "         [120, 124, 137],\n",
       "         [120, 124, 137],\n",
       "         ...,\n",
       "         [115, 120, 132],\n",
       "         [115, 120, 132],\n",
       "         [115, 120, 132]],\n",
       "\n",
       "        [[120, 124, 137],\n",
       "         [120, 124, 137],\n",
       "         [120, 124, 137],\n",
       "         ...,\n",
       "         [115, 120, 132],\n",
       "         [115, 120, 132],\n",
       "         [115, 120, 132]]],\n",
       "\n",
       "\n",
       "       [[[179, 179, 179],\n",
       "         [179, 179, 179],\n",
       "         [179, 179, 179],\n",
       "         ...,\n",
       "         [179, 179, 179],\n",
       "         [179, 179, 179],\n",
       "         [179, 179, 179]],\n",
       "\n",
       "        [[179, 179, 179],\n",
       "         [179, 179, 179],\n",
       "         [179, 179, 179],\n",
       "         ...,\n",
       "         [179, 179, 179],\n",
       "         [179, 179, 179],\n",
       "         [179, 179, 179]],\n",
       "\n",
       "        [[179, 179, 179],\n",
       "         [179, 179, 179],\n",
       "         [179, 179, 179],\n",
       "         ...,\n",
       "         [179, 179, 179],\n",
       "         [179, 179, 179],\n",
       "         [179, 179, 179]],\n",
       "\n",
       "        ...,\n",
       "\n",
       "        [[118, 120, 133],\n",
       "         [118, 120, 133],\n",
       "         [118, 120, 133],\n",
       "         ...,\n",
       "         [112, 117, 125],\n",
       "         [112, 117, 125],\n",
       "         [112, 117, 125]],\n",
       "\n",
       "        [[118, 120, 133],\n",
       "         [118, 120, 133],\n",
       "         [118, 120, 133],\n",
       "         ...,\n",
       "         [112, 116, 124],\n",
       "         [112, 116, 124],\n",
       "         [112, 116, 124]],\n",
       "\n",
       "        [[118, 120, 133],\n",
       "         [118, 120, 133],\n",
       "         [117, 120, 133],\n",
       "         ...,\n",
       "         [111, 115, 123],\n",
       "         [111, 116, 123],\n",
       "         [111, 116, 124]]],\n",
       "\n",
       "\n",
       "       ...,\n",
       "\n",
       "\n",
       "       [[[179, 179, 179],\n",
       "         [179, 179, 179],\n",
       "         [179, 179, 179],\n",
       "         ...,\n",
       "         [179, 179, 179],\n",
       "         [179, 179, 179],\n",
       "         [179, 179, 179]],\n",
       "\n",
       "        [[179, 179, 179],\n",
       "         [179, 179, 179],\n",
       "         [179, 179, 179],\n",
       "         ...,\n",
       "         [179, 179, 179],\n",
       "         [179, 179, 179],\n",
       "         [179, 179, 179]],\n",
       "\n",
       "        [[179, 179, 179],\n",
       "         [179, 179, 179],\n",
       "         [179, 179, 179],\n",
       "         ...,\n",
       "         [179, 179, 179],\n",
       "         [179, 179, 179],\n",
       "         [179, 179, 179]],\n",
       "\n",
       "        ...,\n",
       "\n",
       "        [[ 94, 110, 136],\n",
       "         [ 94, 110, 136],\n",
       "         [ 94, 110, 136],\n",
       "         ...,\n",
       "         [ 98, 117, 146],\n",
       "         [ 98, 117, 147],\n",
       "         [ 98, 117, 147]],\n",
       "\n",
       "        [[ 94, 110, 136],\n",
       "         [ 94, 110, 136],\n",
       "         [ 94, 110, 136],\n",
       "         ...,\n",
       "         [ 98, 117, 147],\n",
       "         [ 98, 117, 147],\n",
       "         [ 98, 117, 147]],\n",
       "\n",
       "        [[ 94, 110, 136],\n",
       "         [ 94, 110, 136],\n",
       "         [ 94, 110, 136],\n",
       "         ...,\n",
       "         [ 98, 117, 147],\n",
       "         [ 98, 117, 147],\n",
       "         [ 98, 117, 147]]],\n",
       "\n",
       "\n",
       "       [[[179, 179, 179],\n",
       "         [179, 179, 179],\n",
       "         [179, 179, 179],\n",
       "         ...,\n",
       "         [179, 179, 179],\n",
       "         [179, 179, 179],\n",
       "         [179, 179, 179]],\n",
       "\n",
       "        [[179, 179, 179],\n",
       "         [179, 179, 179],\n",
       "         [179, 179, 179],\n",
       "         ...,\n",
       "         [179, 179, 179],\n",
       "         [179, 179, 179],\n",
       "         [179, 179, 179]],\n",
       "\n",
       "        [[179, 179, 179],\n",
       "         [179, 179, 179],\n",
       "         [179, 179, 179],\n",
       "         ...,\n",
       "         [179, 179, 179],\n",
       "         [179, 179, 179],\n",
       "         [179, 179, 179]],\n",
       "\n",
       "        ...,\n",
       "\n",
       "        [[133, 144, 165],\n",
       "         [131, 142, 163],\n",
       "         [128, 140, 161],\n",
       "         ...,\n",
       "         [105, 124, 148],\n",
       "         [105, 124, 148],\n",
       "         [105, 124, 147]],\n",
       "\n",
       "        [[130, 142, 162],\n",
       "         [128, 140, 161],\n",
       "         [126, 138, 159],\n",
       "         ...,\n",
       "         [105, 124, 148],\n",
       "         [105, 124, 148],\n",
       "         [105, 124, 148]],\n",
       "\n",
       "        [[128, 140, 161],\n",
       "         [126, 138, 159],\n",
       "         [124, 136, 157],\n",
       "         ...,\n",
       "         [105, 124, 148],\n",
       "         [105, 124, 148],\n",
       "         [105, 124, 148]]],\n",
       "\n",
       "\n",
       "       [[[179, 179, 179],\n",
       "         [179, 179, 179],\n",
       "         [179, 179, 179],\n",
       "         ...,\n",
       "         [179, 179, 179],\n",
       "         [179, 179, 179],\n",
       "         [179, 179, 179]],\n",
       "\n",
       "        [[179, 179, 179],\n",
       "         [179, 179, 179],\n",
       "         [179, 179, 179],\n",
       "         ...,\n",
       "         [179, 179, 179],\n",
       "         [179, 179, 179],\n",
       "         [179, 179, 179]],\n",
       "\n",
       "        [[179, 179, 179],\n",
       "         [179, 179, 179],\n",
       "         [179, 179, 179],\n",
       "         ...,\n",
       "         [179, 179, 179],\n",
       "         [179, 179, 179],\n",
       "         [179, 179, 179]],\n",
       "\n",
       "        ...,\n",
       "\n",
       "        [[238, 250, 255],\n",
       "         [238, 250, 255],\n",
       "         [238, 250, 255],\n",
       "         ...,\n",
       "         [106, 124, 148],\n",
       "         [106, 124, 148],\n",
       "         [106, 124, 148]],\n",
       "\n",
       "        [[239, 250, 255],\n",
       "         [239, 250, 255],\n",
       "         [240, 251, 255],\n",
       "         ...,\n",
       "         [105, 124, 148],\n",
       "         [105, 124, 148],\n",
       "         [105, 124, 148]],\n",
       "\n",
       "        [[240, 251, 255],\n",
       "         [240, 251, 255],\n",
       "         [241, 252, 255],\n",
       "         ...,\n",
       "         [105, 124, 147],\n",
       "         [105, 124, 147],\n",
       "         [105, 124, 147]]]], dtype=uint8)"
      ]
     },
     "execution_count": 29,
     "metadata": {},
     "output_type": "execute_result"
    }
   ],
   "source": [
    "train"
   ]
  },
  {
   "cell_type": "code",
   "execution_count": 10,
   "metadata": {},
   "outputs": [
    {
     "data": {
      "text/plain": [
       "(1550, 1)"
      ]
     },
     "execution_count": 10,
     "metadata": {},
     "output_type": "execute_result"
    }
   ],
   "source": [
    "labels"
   ]
  },
  {
   "cell_type": "code",
   "execution_count": 5,
   "metadata": {},
   "outputs": [],
   "source": [
    "import matplotlib.pyplot as plt\n",
    "import cv2"
   ]
  },
  {
   "cell_type": "code",
   "execution_count": 61,
   "metadata": {},
   "outputs": [],
   "source": [
    "# img = cv2.imread('racetrack.jpg')"
   ]
  },
  {
   "cell_type": "code",
   "execution_count": 62,
   "metadata": {},
   "outputs": [],
   "source": [
    "# plt.imshow(cv2.imread('racetrack.jpg'))"
   ]
  },
  {
   "cell_type": "code",
   "execution_count": 63,
   "metadata": {},
   "outputs": [],
   "source": [
    "# img.shape"
   ]
  },
  {
   "cell_type": "code",
   "execution_count": 49,
   "metadata": {
    "scrolled": true
   },
   "outputs": [
    {
     "name": "stdout",
     "output_type": "stream",
     "text": [
      "Model: \"sequential_1\"\n",
      "_________________________________________________________________\n",
      "Layer (type)                 Output Shape              Param #   \n",
      "=================================================================\n",
      "lambda_1 (Lambda)            (None, 480, 640, 3)       0         \n",
      "_________________________________________________________________\n",
      "conv2d_1 (Conv2D)            (None, 240, 320, 24)      1824      \n",
      "_________________________________________________________________\n",
      "max_pooling2d_1 (MaxPooling2 (None, 120, 160, 24)      0         \n",
      "_________________________________________________________________\n",
      "conv2d_2 (Conv2D)            (None, 60, 80, 36)        21636     \n",
      "_________________________________________________________________\n",
      "max_pooling2d_2 (MaxPooling2 (None, 30, 40, 36)        0         \n",
      "_________________________________________________________________\n",
      "conv2d_3 (Conv2D)            (None, 15, 20, 48)        43248     \n",
      "_________________________________________________________________\n",
      "max_pooling2d_3 (MaxPooling2 (None, 7, 10, 48)         0         \n",
      "_________________________________________________________________\n",
      "conv2d_4 (Conv2D)            (None, 5, 8, 64)          27712     \n",
      "_________________________________________________________________\n",
      "conv2d_5 (Conv2D)            (None, 3, 6, 64)          36928     \n",
      "_________________________________________________________________\n",
      "dropout_1 (Dropout)          (None, 3, 6, 64)          0         \n",
      "_________________________________________________________________\n",
      "flatten_1 (Flatten)          (None, 1152)              0         \n",
      "_________________________________________________________________\n",
      "dense_1 (Dense)              (None, 100)               115300    \n",
      "_________________________________________________________________\n",
      "dense_2 (Dense)              (None, 50)                5050      \n",
      "_________________________________________________________________\n",
      "dense_3 (Dense)              (None, 10)                510       \n",
      "_________________________________________________________________\n",
      "dense_4 (Dense)              (None, 1)                 11        \n",
      "=================================================================\n",
      "Total params: 252,219\n",
      "Trainable params: 252,219\n",
      "Non-trainable params: 0\n",
      "_________________________________________________________________\n"
     ]
    }
   ],
   "source": [
    "model = build_model((train.shape[1], train.shape[2], train.shape[3]))"
   ]
  },
  {
   "cell_type": "code",
   "execution_count": 31,
   "metadata": {},
   "outputs": [],
   "source": [
    "import numpy as np\n",
    "from sklearn.model_selection import train_test_split"
   ]
  },
  {
   "cell_type": "code",
   "execution_count": 32,
   "metadata": {},
   "outputs": [],
   "source": [
    "X_train, X_test, y_train, y_test = train_test_split(train, labels, test_size=0.2, random_state=42)"
   ]
  },
  {
   "cell_type": "code",
   "execution_count": 51,
   "metadata": {},
   "outputs": [],
   "source": [
    "model.compile(loss='mean_squared_error',optimizer='adam')"
   ]
  },
  {
   "cell_type": "code",
   "execution_count": 52,
   "metadata": {},
   "outputs": [
    {
     "name": "stdout",
     "output_type": "stream",
     "text": [
      "Train on 1240 samples, validate on 310 samples\n",
      "Epoch 1/3\n",
      "1240/1240 [==============================] - 54s 43ms/step - loss: 0.1098 - val_loss: 0.0117\n",
      "Epoch 2/3\n",
      "1240/1240 [==============================] - 50s 40ms/step - loss: 0.0131 - val_loss: 0.0095\n",
      "Epoch 3/3\n",
      "1240/1240 [==============================] - 48s 39ms/step - loss: 0.0103 - val_loss: 0.0106\n"
     ]
    },
    {
     "data": {
      "text/plain": [
       "<keras.callbacks.callbacks.History at 0x1efc650b8>"
      ]
     },
     "execution_count": 52,
     "metadata": {},
     "output_type": "execute_result"
    }
   ],
   "source": [
    "model.fit(X_train,y_train,validation_data=[X_test, y_test], epochs=3)"
   ]
  },
  {
   "cell_type": "code",
   "execution_count": 44,
   "metadata": {},
   "outputs": [
    {
     "data": {
      "text/plain": [
       "<matplotlib.image.AxesImage at 0x1d39fd898>"
      ]
     },
     "execution_count": 44,
     "metadata": {},
     "output_type": "execute_result"
    },
    {
     "data": {
      "image/png": "[encoded data removed]",
      "text/plain": [
       "<Figure size 432x288 with 1 Axes>"
      ]
     },
     "metadata": {
      "needs_background": "light"
     },
     "output_type": "display_data"
    }
   ],
   "source": [
    "plt.imshow(X_train[6,:,:,:])"
   ]
  },
  {
   "cell_type": "code",
   "execution_count": 45,
   "metadata": {},
   "outputs": [
    {
     "name": "stdout",
     "output_type": "stream",
     "text": [
      "[-0.08]\n"
     ]
    }
   ],
   "source": [
    "print(y_train[6])"
   ]
  },
  {
   "cell_type": "code",
   "execution_count": 56,
   "metadata": {},
   "outputs": [
    {
     "data": {
      "text/plain": [
       "<matplotlib.image.AxesImage at 0x1ef437e48>"
      ]
     },
     "execution_count": 56,
     "metadata": {},
     "output_type": "execute_result"
    },
    {
     "data": {
      "image/png": "[encoded data removed]",
      "text/plain": [
       "<Figure size 432x288 with 1 Axes>"
      ]
     },
     "metadata": {
      "needs_background": "light"
     },
     "output_type": "display_data"
    }
   ],
   "source": [
    "plt.imshow(X_test[4,:,:,:])"
   ]
  },
  {
   "cell_type": "code",
   "execution_count": 57,
   "metadata": {},
   "outputs": [
    {
     "data": {
      "text/plain": [
       "array([[-0.02840356]], dtype=float32)"
      ]
     },
     "execution_count": 57,
     "metadata": {},
     "output_type": "execute_result"
    }
   ],
   "source": [
    "model.predict(X_test[4,:,:,:].reshape(-1, train.shape[1], train.shape[2], train.shape[3] ))"
   ]
  },
  {
   "cell_type": "code",
   "execution_count": 58,
   "metadata": {},
   "outputs": [],
   "source": [
    "model.save('deepracer_model.h5')"
   ]
  },
  {
   "cell_type": "code",
   "execution_count": 64,
   "metadata": {},
   "outputs": [],
   "source": [
    "# img.reshape(1, 342, 608, 3)"
   ]
  },
  {
   "cell_type": "code",
   "execution_count": null,
   "metadata": {},
   "outputs": [],
   "source": []
  }
 ],
 "metadata": {
  "kernelspec": {
   "display_name": "Python 3",
   "language": "python",
   "name": "python3"
  },
  "language_info": {
   "codemirror_mode": {
    "name": "ipython",
    "version": 3
   },
   "file_extension": ".py",
   "mimetype": "text/x-python",
   "name": "python",
   "nbconvert_exporter": "python",
   "pygments_lexer": "ipython3",
   "version": "3.7.3"
  }
 },
 "nbformat": 4,
 "nbformat_minor": 2
}
